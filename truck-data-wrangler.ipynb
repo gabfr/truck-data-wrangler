{
 "cells": [
  {
   "cell_type": "markdown",
   "metadata": {
    "collapsed": true
   },
   "source": [
    "# Truck Data Wrangler\n",
    "\n",
    "Exploratory analysis of the dataset inside the `data` folder.\n",
    "\n",
    "## Unifying the csv´s\n",
    "\n",
    "First of all we will aggregate all csv data inside a single one. All the CSV files has these commons columns:\n",
    "\n",
    " - timestamp (`unix timestamp`)\n",
    " - accel_x (`decimal (12, 6)`)\n",
    " - accel_y (`decimal (12, 6)`)\n",
    " - accel_z (`decimal (12, 6)`)\n",
    " - gyro_roll (`decimal (12, 6)`)\n",
    " - gyro_pitch (`decimal (12, 6)`)\n",
    " - gyro_yaw (`decimal (12, 6)`)\n",
    " - label (`integer?`)\n",
    " \n",
    " \n",
    "And we will create another one to identify from which file the rows are coming from:\n",
    "\n",
    " - event_type (`string`)\n",
    " \n",
    "Will do that by using pandas just for the sake of this dataset analysis."
   ]
  },
  {
   "cell_type": "code",
   "execution_count": 24,
   "metadata": {},
   "outputs": [
    {
     "data": {
      "text/plain": [
       "(81435, 9)"
      ]
     },
     "execution_count": 24,
     "metadata": {},
     "output_type": "execute_result"
    }
   ],
   "source": [
    "import pandas as pd\n",
    "\n",
    "data_files = {\n",
    "    'aggressive_bump_1550163148318484.csv': 'agressive_bump',\n",
    "    'aggressive_longitudinal_acceleration_1549653321089461.csv': 'aggressive_longitudinal_acceleration',\n",
    "    'aggressive_turn_1549625320507325.csv': 'aggressive_turn',\n",
    "    'normal_longitudinal_acceleration_1549908723215048.csv': 'normal_longitudinal_acceleration',\n",
    "    'normal_mixed_1549901031015048.csv': 'normal_mixed',\n",
    "    'normal_mixed_1550054269957615.csv': 'normal_mixed',\n",
    "    'normal_turn_1549626293857325.csv': 'normal_turn'\n",
    "}\n",
    "\n",
    "read_frames = []\n",
    "\n",
    "for data_file, event_type in data_files.items():\n",
    "    tmp_df = pd.read_csv('data/' + data_file)\n",
    "    tmp_df['event_type'] = event_type\n",
    "    tmp_df = tmp_df[['event_type', 'label', 'timestamp', 'accel_x', 'accel_y', 'accel_z', 'gyro_roll', 'gyro_pitch', 'gyro_yaw']]\n",
    "    read_frames.append(tmp_df)\n",
    "\n",
    "df = pd.concat(read_frames)\n",
    "df.to_csv('data/unified.csv')\n",
    "df.shape"
   ]
  },
  {
   "cell_type": "code",
   "execution_count": null,
   "metadata": {},
   "outputs": [],
   "source": []
  }
 ],
 "metadata": {
  "kernelspec": {
   "display_name": "Python 2",
   "language": "python",
   "name": "python2"
  },
  "language_info": {
   "codemirror_mode": {
    "name": "ipython",
    "version": 2
   },
   "file_extension": ".py",
   "mimetype": "text/x-python",
   "name": "python",
   "nbconvert_exporter": "python",
   "pygments_lexer": "ipython2",
   "version": "2.7.15"
  },
  "pycharm": {
   "stem_cell": {
    "cell_type": "raw",
    "metadata": {
     "collapsed": false
    },
    "source": []
   }
  }
 },
 "nbformat": 4,
 "nbformat_minor": 1
}
